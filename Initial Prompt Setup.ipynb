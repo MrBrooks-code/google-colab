{
  "nbformat": 4,
  "nbformat_minor": 0,
  "metadata": {
    "colab": {
      "provenance": [],
      "history_visible": true,
      "authorship_tag": "ABX9TyOznvRRstZz/FKpdHVMnF/y",
      "include_colab_link": true
    },
    "kernelspec": {
      "name": "python3",
      "display_name": "Python 3"
    },
    "language_info": {
      "name": "python"
    }
  },
  "cells": [
    {
      "cell_type": "markdown",
      "metadata": {
        "id": "view-in-github",
        "colab_type": "text"
      },
      "source": [
        "<a href=\"https://colab.research.google.com/github/MrBrooks-code/google-colab/blob/main/Initial%20Prompt%20Setup.ipynb\" target=\"_parent\"><img src=\"https://colab.research.google.com/assets/colab-badge.svg\" alt=\"Open In Colab\"/></a>"
      ]
    },
    {
      "cell_type": "code",
      "execution_count": null,
      "metadata": {
        "id": "MlW1PuaNuTWN"
      },
      "outputs": [],
      "source": []
    },
    {
      "cell_type": "markdown",
      "source": [
        "## I want to test which system prompts produce the best outputs, given some task definitions.\n",
        "## I want to test multiple language models.\n",
        "## I want to have a list of system prompts.\n",
        "\n",
        "## for each system prompt\n",
        "## Run a function that:\n",
        "## given a system prompt\n",
        "## given a specified language model\n",
        "## given a series of task definitions that I want to run\n",
        "  ## for each task definition\n",
        "     ## query the specified language model with each task definition with the system prompt seprately as a new conversation.\n",
        "  ## get the results and write them to a file."
      ],
      "metadata": {
        "id": "zenCLAjjvcZN"
      }
    },
    {
      "cell_type": "code",
      "source": [],
      "metadata": {
        "id": "xom_VDqzwFa8"
      },
      "execution_count": null,
      "outputs": []
    }
  ]
}